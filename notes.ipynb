{
 "cells": [
  {
   "cell_type": "markdown",
   "metadata": {},
   "source": [
    "# O Level Computing 7155 "
   ]
  },
  {
   "cell_type": "markdown",
   "metadata": {},
   "source": [
    "## 4.1.2\n",
    "Understand and use sequence, selection and iteration constructs to create a program. \n",
    "\n",
    "Note:\n",
    "• Sequence refers to the execution of instructions in a specific order, one after the other.\n",
    "• Selection allows your program to make decisions based on conditions.\n",
    "• Iteration allows you to repeat a set of instructions multiple times (Loops!)."
   ]
  },
  {
   "cell_type": "code",
   "execution_count": null,
   "metadata": {},
   "outputs": [],
   "source": [
    "# Sequence:\n",
    "# Example of a sequence\n",
    "print(\"Step 1: Initialize variables\")\n",
    "num1 = 10\n",
    "num2 = 20\n",
    "\n",
    "print(\"Step 2: Perform calculations\")\n",
    "result = num1 + num2\n",
    "\n",
    "print(\"Step 3: Display the result\")\n",
    "print(\"The result is:\", result)"
   ]
  },
  {
   "cell_type": "code",
   "execution_count": null,
   "metadata": {},
   "outputs": [],
   "source": [
    "# If-elif-else Statement\n",
    "\n",
    "# Example of an if-elif-else statement\n",
    "score = int(input(\"Enter your score: \"))\n",
    "\n",
    "if score >= 90:\n",
    "    print(\"You got an A.\")\n",
    "elif score >= 80:\n",
    "    print(\"You got a B.\")\n",
    "else:\n",
    "    print(\"You got a C or lower.\")"
   ]
  },
  {
   "cell_type": "code",
   "execution_count": null,
   "metadata": {},
   "outputs": [],
   "source": [
    "# For Loop:\n",
    "\n",
    "list_of_num = [1, 2, 3, 4, 5]\n",
    "\n",
    "for i in range(1, len(list_of_num) + 1): # You have to add one as it is exclusive of the last number\n",
    "    print(\"Iteration\", i) \n"
   ]
  },
  {
   "cell_type": "code",
   "execution_count": null,
   "metadata": {},
   "outputs": [],
   "source": [
    "# While Loop:\n",
    "\n",
    "count = 1 # Initialises a value, this can be anything. Even can be a length of a list, for instance\n",
    "while count <= 5:\n",
    "    print(\"Iteration\", count)\n",
    "    count += 1\n"
   ]
  },
  {
   "cell_type": "code",
   "execution_count": null,
   "metadata": {},
   "outputs": [],
   "source": [
    "# Loop with Break\n",
    "count = 5\n",
    "\n",
    "while True:\n",
    "    print(\"Round\", count)\n",
    "    count = count - 1\n",
    "    if count == 0:\n",
    "        break # Stops the while loop\n",
    "print(\"You exited the loop.\")\n"
   ]
  },
  {
   "cell_type": "markdown",
   "metadata": {},
   "source": [
    "## 4.1.5\n",
    "Produce programming solution for a given problem to:\n",
    "• find min/max value in a list\n",
    "• find average of a list of numeric values\n",
    "• search for an item in a list and report the result of the search\n",
    "• find check digits\n",
    "• find the length of a string of characters\n",
    "• extract required characters from a string of characters"
   ]
  },
  {
   "cell_type": "code",
   "execution_count": null,
   "metadata": {},
   "outputs": [],
   "source": [
    "# Find Min/Max Value in a List:\n",
    "numbers = [5, 2, 9, 1, 7, 4]\n",
    "min_value = min(numbers)\n",
    "max_value = max(numbers)\n",
    "print(\"Min Value:\", min_value)\n",
    "print(\"Max Value:\", max_value)"
   ]
  },
  {
   "cell_type": "code",
   "execution_count": null,
   "metadata": {},
   "outputs": [],
   "source": [
    "# Find Average of a List of Numeric Values:\n",
    "numbers = [5, 2, 9, 1, 7, 4]\n",
    "average = sum(numbers) / len(numbers) \n",
    "# This divides sum of all the numbers by the number of items in the list\n",
    "print(\"Average:\", average)\n"
   ]
  },
  {
   "cell_type": "code",
   "execution_count": null,
   "metadata": {},
   "outputs": [],
   "source": [
    "# Search for an Item in a List and Report the Result:\n",
    "fruits = ['apple', 'banana', 'cherry']\n",
    "search_item = 'banana'\n",
    "if search_item in fruits:\n",
    "    print(search_item, \"is in the list.\")\n",
    "else:\n",
    "    print(search_item, \"is not in the list.\")"
   ]
  },
  {
   "cell_type": "code",
   "execution_count": null,
   "metadata": {},
   "outputs": [],
   "source": [
    "# Find the Length of a String of Characters:\n",
    "text = \"Hello, World!\"\n",
    "length = len(text)\n",
    "print(\"Length of the string:\", length)"
   ]
  },
  {
   "cell_type": "code",
   "execution_count": null,
   "metadata": {},
   "outputs": [],
   "source": [
    "# Extract Required Characters from a String:\n",
    "text = \"Hello, World!\"\n",
    "# Extract characters from position 7 to 12 (inclusive)\n",
    "extracted_text = text[7:13] # For the second index you have to add 1.\n",
    "print(\"Extracted text:\", extracted_text)"
   ]
  },
  {
   "cell_type": "markdown",
   "metadata": {},
   "source": [
    "## 4.1.6\n",
    "Write and use user-defined functions. \n",
    "\n",
    "Note: \n",
    "You CANNOT access variables that you defined IN the function, OUTSIDE of the function directly.\n",
    "You have to 'tell' the function to give (return) the value to you!"
   ]
  },
  {
   "cell_type": "code",
   "execution_count": null,
   "metadata": {},
   "outputs": [],
   "source": [
    "# Creating and Calling a UDF\n",
    "def greet(name): # This creates the function\n",
    "    print(\"Hello \" + name)\n",
    "    \n",
    "name = input(\"Enter your name: \")\n",
    "greet(name) # This calls the function"
   ]
  },
  {
   "cell_type": "code",
   "execution_count": null,
   "metadata": {},
   "outputs": [],
   "source": [
    "# Creating and Calling a UDF (Version 2)\n",
    "    # You can make the functions RETURN values.\n",
    "    \n",
    "def greet(name): # This creates the function\n",
    "    greeting_message = \"Hello \" + name\n",
    "    return greeting_message\n",
    "    \n",
    "name = input(\"Enter your name: \")\n",
    "print(greet(name)) # This calls the function\n"
   ]
  },
  {
   "cell_type": "markdown",
   "metadata": {},
   "source": [
    "## 4.2.2 \n",
    "Validate input data for acceptance by performing: \n",
    "• length check\n",
    "• range check\n",
    "• presence check\n",
    "• format check "
   ]
  },
  {
   "cell_type": "code",
   "execution_count": null,
   "metadata": {},
   "outputs": [],
   "source": [
    "# Length Check:\n",
    "    # Purpose: To ensure that input data meets specific length requirements.\n",
    "    # Example: To ensure that a password is at least 8 characters long.\n",
    "\n",
    "def is_valid_password(password):\n",
    "    if len(password) < 8:\n",
    "        return False\n",
    "    else:\n",
    "        return True\n",
    "\n",
    "password = input(\"Enter your password: \")\n",
    "\n",
    "if is_valid_password(password): # This checks if its true \n",
    "    print(\"Your password is valid.\")\n",
    "else: # if its false\n",
    "    print(\"Password is too short!\")"
   ]
  },
  {
   "cell_type": "code",
   "execution_count": null,
   "metadata": {},
   "outputs": [],
   "source": [
    "# Range Check:\n",
    "    # Purpose: To validate that numeric input falls within a specified range.\n",
    "    # Example: To ensure that a number is between 1 and 10.\n",
    "\n",
    "def is_valid_number(number):\n",
    "    if number >= 1 and number <= 10:\n",
    "        return True\n",
    "    else:\n",
    "        return False\n",
    "\n",
    "# Try continuing this on your own!"
   ]
  },
  {
   "cell_type": "code",
   "execution_count": null,
   "metadata": {},
   "outputs": [],
   "source": [
    "# Presence Check\n",
    "    # Purpose: To check if an input is not empty or contains meaningful content.\n",
    "    # Example: To ensure that a user enters a correct email address.\n",
    "    \n",
    "def is_valid_email(email):\n",
    "    if email != \"\" and \"@\" in email: \n",
    "        return True\n",
    "    else:\n",
    "        return False \n",
    "    \n",
    "# Try continuing this on your own!"
   ]
  },
  {
   "cell_type": "code",
   "execution_count": null,
   "metadata": {},
   "outputs": [],
   "source": [
    "# Format Check\n",
    "    # Example: Checking if the first letter of a string is capitalised\n",
    "\n",
    "def is_valid_format(input_data):\n",
    "    # Check if the first character of the input is an uppercase letter.\n",
    "    if input_data[0].isupper():\n",
    "        return True\n",
    "    else:\n",
    "        return False\n",
    "\n",
    "# Try continuing this on your own!"
   ]
  }
 ],
 "metadata": {
  "kernelspec": {
   "display_name": "Python 3",
   "language": "python",
   "name": "python3"
  },
  "language_info": {
   "codemirror_mode": {
    "name": "ipython",
    "version": 3
   },
   "file_extension": ".py",
   "mimetype": "text/x-python",
   "name": "python",
   "nbconvert_exporter": "python",
   "pygments_lexer": "ipython3",
   "version": "3.10.12"
  }
 },
 "nbformat": 4,
 "nbformat_minor": 2
}
